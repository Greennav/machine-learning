{
 "cells": [
  {
   "cell_type": "markdown",
   "metadata": {},
   "source": [
    "Tested on real and large data (over 10 million rows) with over 95% accuracy. Removing the dataset presently as it is under non-disclaimer. Uploading a\n",
    "sample data presently but the algorithm is tested on real data and performs well.\n",
    "This notebook shows 100% accuracy but that is because the dataset used is small and self-created."
   ]
  },
  {
   "cell_type": "code",
   "execution_count": 1,
   "metadata": {
    "collapsed": false
   },
   "outputs": [
    {
     "name": "stderr",
     "output_type": "stream",
     "text": [
      "/usr/local/lib/python2.7/dist-packages/pandas/io/excel.py:626: UserWarning: Installed openpyxl is not supported at this time. Use >=1.6.1 and <2.0.0.\n",
      "  .format(openpyxl_compat.start_ver, openpyxl_compat.stop_ver))\n"
     ]
    }
   ],
   "source": [
    "import pandas as pd\n",
    "from sklearn.cluster import MiniBatchKMeans\n",
    "import numpy as np\n",
    "from sklearn import svm\n",
    "from sklearn.model_selection import train_test_split\n",
    "from sklearn.model_selection import GridSearchCV\n",
    "from sklearn.feature_extraction.text import TfidfVectorizer\n",
    "import pickle\n",
    "from sklearn.metrics import classification_report\n",
    "import os.path\n",
    "from sklearn.cluster import KMeans\n",
    "from sklearn.linear_model import SGDClassifier"
   ]
  },
  {
   "cell_type": "code",
   "execution_count": 2,
   "metadata": {
    "collapsed": false
   },
   "outputs": [],
   "source": [
    "df = pd.read_csv(open('sample.csv'))"
   ]
  },
  {
   "cell_type": "code",
   "execution_count": 3,
   "metadata": {
    "collapsed": true
   },
   "outputs": [],
   "source": [
    "def vectorize(df):\n",
    "    vectorizer = TfidfVectorizer(stop_words=\"english\",min_df=10,max_features=50)\n",
    "    vectorizer.fit(df['title']+df['message'])\n",
    "    pickle.dump(file=open(\"vector.pkl\",\"w\"),obj=vectorizer)"
   ]
  },
  {
   "cell_type": "code",
   "execution_count": 4,
   "metadata": {
    "collapsed": true
   },
   "outputs": [],
   "source": [
    "def cluster(df,number_of_clusters,batch_size,max_iter):\n",
    "    vz = pickle.load(open('vector.pkl',\"r\"))\n",
    "    data_points = len(df)\n",
    "    class_val = []\n",
    "    interia_list = []\n",
    "    z = MiniBatchKMeans(n_clusters=number_of_clusters,batch_size=batch_size,max_iter=max_iter)\n",
    "    for i in xrange(0,data_points,batch_size):\n",
    "        features = vz.transform(df[i:i+batch_size]['title']+df[i:i+batch_size]['message'])\n",
    "        z.partial_fit(features)\n",
    "        interia_list.append(z.inertia_)\n",
    "        class_val = class_val + list(z.labels_)\n",
    "    new_df = df[0:data_points]\n",
    "    new_df['class'] = class_val\n",
    "    new_df.to_csv('ClusteredData.csv', index=False)"
   ]
  },
  {
   "cell_type": "code",
   "execution_count": 5,
   "metadata": {
    "collapsed": true
   },
   "outputs": [],
   "source": [
    "def classify(clusteredDataFile,test_size):\n",
    "    vz = pickle.load(open('vector.pkl',\"r\"))\n",
    "    clusteredData = pd.read_csv(clusteredDataFile)\n",
    "    all_features = vz.transform(clusteredData['title']+clusteredData['message'])\n",
    "    X_train, X_test, y_train, y_test = train_test_split(all_features,clusteredData['class'],test_size=test_size)\n",
    "    clf = SGDClassifier()\n",
    "    clf.fit(X_train,y_train)\n",
    "    y_true,y_pred = y_test,clf.predict(X_test)\n",
    "    pickle.dump(file=open(\"classifier.pkl\",\"w\"),obj=clf)"
   ]
  },
  {
   "cell_type": "code",
   "execution_count": 6,
   "metadata": {
    "collapsed": true
   },
   "outputs": [],
   "source": [
    "def get_classification_report(test_size):\n",
    "    clusteredData = pd.read_csv('ClusteredData.csv')\n",
    "    vz = pickle.load(open('vector.pkl',\"r\"))\n",
    "    all_features = vz.transform(clusteredData['title']+clusteredData['message'])\n",
    "    X_train, X_test, y_train, y_test = train_test_split(all_features,clusteredData['class'],test_size=test_size)\n",
    "    clf = pickle.load(open(\"classifier.pkl\",\"r\"))\n",
    "    report = classification_report(y_test,clf.predict(X_test), digits=10)\n",
    "    print report"
   ]
  },
  {
   "cell_type": "code",
   "execution_count": 7,
   "metadata": {
    "collapsed": false
   },
   "outputs": [],
   "source": [
    "vectorize(df)"
   ]
  },
  {
   "cell_type": "code",
   "execution_count": 8,
   "metadata": {
    "collapsed": false
   },
   "outputs": [],
   "source": [
    "cluster(df,3,10,50)"
   ]
  },
  {
   "cell_type": "code",
   "execution_count": 9,
   "metadata": {
    "collapsed": false
   },
   "outputs": [],
   "source": [
    "classify('ClusteredData.csv',0.05)"
   ]
  },
  {
   "cell_type": "code",
   "execution_count": 11,
   "metadata": {
    "collapsed": false,
    "scrolled": true
   },
   "outputs": [
    {
     "name": "stdout",
     "output_type": "stream",
     "text": [
      "             precision    recall  f1-score   support\n",
      "\n",
      "          0  1.0000000000 1.0000000000 1.0000000000         3\n",
      "          1  1.0000000000 1.0000000000 1.0000000000         4\n",
      "          2  1.0000000000 1.0000000000 1.0000000000         3\n",
      "\n",
      "avg / total  1.0000000000 1.0000000000 1.0000000000        10\n",
      "\n"
     ]
    }
   ],
   "source": [
    "get_classification_report(0.5)"
   ]
  }
 ],
 "metadata": {
  "kernelspec": {
   "display_name": "Python 2",
   "language": "python",
   "name": "python2"
  },
  "language_info": {
   "codemirror_mode": {
    "name": "ipython",
    "version": 2
   },
   "file_extension": ".py",
   "mimetype": "text/x-python",
   "name": "python",
   "nbconvert_exporter": "python",
   "pygments_lexer": "ipython2",
   "version": "2.7.12+"
  }
 },
 "nbformat": 4,
 "nbformat_minor": 2
}
